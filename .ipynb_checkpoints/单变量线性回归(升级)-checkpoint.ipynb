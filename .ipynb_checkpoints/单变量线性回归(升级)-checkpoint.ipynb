{
 "cells": [
  {
   "cell_type": "markdown",
   "metadata": {},
   "source": [
    "# 单变量线性回归\n",
    "###(y=3.1234x+2.98)"
   ]
  },
  {
   "cell_type": "markdown",
   "metadata": {},
   "source": [
    "## 1.准备数据"
   ]
  },
  {
   "cell_type": "code",
   "execution_count": null,
   "metadata": {
    "collapsed": true
   },
   "outputs": [],
   "source": [
    "#生成人工数据集\n",
    "#导入所需要的包\n",
    "import tensorflow as tf\n",
    "import numpy as np\n",
    "import matplotlib.pyplot as plt\n",
    "%matplotlib inline\n",
    "np.random.seed(5)"
   ]
  },
  {
   "cell_type": "code",
   "execution_count": null,
   "metadata": {
    "collapsed": true
   },
   "outputs": [],
   "source": [
    "x_data=np.linspace(0,100,500)\n",
    "y_data=3.1234*x_data+2.98+np.random.randn(*x_data.shape)*100"
   ]
  },
  {
   "cell_type": "code",
   "execution_count": null,
   "metadata": {
    "collapsed": false
   },
   "outputs": [],
   "source": [
    "#画图\n",
    "plt.scatter(x_data,y_data)\n",
    "plt.plot(x_data,3.12334*x_data+2.98,color='red',linewidth=3)"
   ]
  },
  {
   "cell_type": "markdown",
   "metadata": {},
   "source": [
    "# 2.构建模型"
   ]
  },
  {
   "cell_type": "code",
   "execution_count": 4,
   "metadata": {
    "collapsed": true
   },
   "outputs": [],
   "source": [
    "#定义训练数据\n",
    "x=tf.placeholder(\"float\",name=\"x\")\n",
    "y=tf.placeholder(\"float\",name=\"y\")\n",
    "#定义模型\n",
    "def model(x,w,b):\n",
    "    return tf.multiply(x,w)+b\n",
    "#变量初始化\n",
    "w=tf.Variable(1.0,name=\"w0\")\n",
    "b=tf.Variable(0.0,name=\"b0\")\n",
    "#预测值\n",
    "pred=model(x,w,b)"
   ]
  },
  {
   "cell_type": "markdown",
   "metadata": {},
   "source": [
    "# 3.训练模型"
   ]
  },
  {
   "cell_type": "code",
   "execution_count": 5,
   "metadata": {
    "collapsed": true
   },
   "outputs": [],
   "source": [
    "train_epochs=10 #训练轮数\n",
    "learning_rate=0.01 #学习率"
   ]
  },
  {
   "cell_type": "code",
   "execution_count": 6,
   "metadata": {
    "collapsed": true
   },
   "outputs": [],
   "source": [
    "#损失函数\n",
    "loss_function=tf.reduce_mean(tf.square(y-pred))\n",
    "#optimizer=tf.train.GradientDescentOptimizer(learning_rate).minimize(loss_function)\n",
    "optimizer=tf.train.AdamOptimizer(learning_rate).minimize(loss_function)"
   ]
  },
  {
   "cell_type": "code",
   "execution_count": 7,
   "metadata": {
    "collapsed": true
   },
   "outputs": [],
   "source": [
    "#会话\n",
    "sess=tf.Session()\n",
    "init=tf.global_variables_initializer()\n",
    "sess.run(init)"
   ]
  },
  {
   "cell_type": "code",
   "execution_count": 8,
   "metadata": {
    "collapsed": false,
    "scrolled": false
   },
   "outputs": [
    {
     "name": "stdout",
     "output_type": "stream",
     "text": [
      "Train Epoch:01 step:020 loss=289.118804932\n",
      "Train Epoch:01 step:040 loss=1058.694824219\n",
      "Train Epoch:01 step:060 loss=479.657104492\n",
      "Train Epoch:01 step:080 loss=389.239166260\n",
      "Train Epoch:01 step:100 loss=687.988281250\n",
      "Train Epoch:01 step:120 loss=325.866088867\n",
      "Train Epoch:01 step:140 loss=863.290954590\n",
      "Train Epoch:01 step:160 loss=82.904556274\n",
      "Train Epoch:01 step:180 loss=16.286365509\n",
      "Train Epoch:01 step:200 loss=61.991355896\n",
      "Train Epoch:01 step:220 loss=105.513420105\n",
      "Train Epoch:01 step:240 loss=140.917068481\n",
      "Train Epoch:01 step:260 loss=1.571133137\n",
      "Train Epoch:01 step:280 loss=93.780265808\n",
      "Train Epoch:01 step:300 loss=7.772402287\n",
      "Train Epoch:01 step:320 loss=72.555633545\n",
      "Train Epoch:01 step:340 loss=71.252189636\n",
      "Train Epoch:01 step:360 loss=34.370372772\n",
      "Train Epoch:01 step:380 loss=123.684494019\n",
      "Train Epoch:01 step:400 loss=78.091049194\n",
      "Train Epoch:01 step:420 loss=95.938102722\n",
      "Train Epoch:01 step:440 loss=19.342761993\n",
      "Train Epoch:01 step:460 loss=15.623336792\n",
      "Train Epoch:01 step:480 loss=1.167162180\n",
      "Train Epoch:01 step:500 loss=99.482482910\n",
      "Train Epoch:02 step:520 loss=62.166671753\n",
      "Train Epoch:02 step:540 loss=292.388885498\n",
      "Train Epoch:02 step:560 loss=6.825710297\n",
      "Train Epoch:02 step:580 loss=1.491755724\n",
      "Train Epoch:02 step:600 loss=35.214233398\n",
      "Train Epoch:02 step:620 loss=0.181257188\n",
      "Train Epoch:02 step:640 loss=242.097381592\n",
      "Train Epoch:02 step:660 loss=0.028216064\n",
      "Train Epoch:02 step:680 loss=75.785560608\n",
      "Train Epoch:02 step:700 loss=36.477001190\n",
      "Train Epoch:02 step:720 loss=113.450645447\n",
      "Train Epoch:02 step:740 loss=143.079360962\n",
      "Train Epoch:02 step:760 loss=1.522363424\n",
      "Train Epoch:02 step:780 loss=80.097526550\n",
      "Train Epoch:02 step:800 loss=11.551451683\n",
      "Train Epoch:02 step:820 loss=63.743907928\n",
      "Train Epoch:02 step:840 loss=74.093750000\n",
      "Train Epoch:02 step:860 loss=34.244892120\n",
      "Train Epoch:02 step:880 loss=121.598609924\n",
      "Train Epoch:02 step:900 loss=78.349617004\n",
      "Train Epoch:02 step:920 loss=99.918838501\n",
      "Train Epoch:02 step:940 loss=18.552936554\n",
      "Train Epoch:02 step:960 loss=15.628162384\n",
      "Train Epoch:02 step:980 loss=1.208134294\n",
      "Train Epoch:02 step:1000 loss=101.222587585\n",
      "Train Epoch:03 step:1020 loss=59.801174164\n",
      "Train Epoch:03 step:1040 loss=287.604187012\n",
      "Train Epoch:03 step:1060 loss=6.146235943\n",
      "Train Epoch:03 step:1080 loss=1.790635228\n",
      "Train Epoch:03 step:1100 loss=34.136573792\n",
      "Train Epoch:03 step:1120 loss=0.135151818\n",
      "Train Epoch:03 step:1140 loss=241.150054932\n",
      "Train Epoch:03 step:1160 loss=0.034484290\n",
      "Train Epoch:03 step:1180 loss=75.097053528\n",
      "Train Epoch:03 step:1200 loss=36.816005707\n",
      "Train Epoch:03 step:1220 loss=113.120956421\n",
      "Train Epoch:03 step:1240 loss=143.179031372\n",
      "Train Epoch:03 step:1260 loss=1.514466405\n",
      "Train Epoch:03 step:1280 loss=78.363662720\n",
      "Train Epoch:03 step:1300 loss=11.949271202\n",
      "Train Epoch:03 step:1320 loss=62.346511841\n",
      "Train Epoch:03 step:1340 loss=74.452232361\n",
      "Train Epoch:03 step:1360 loss=34.189193726\n",
      "Train Epoch:03 step:1380 loss=121.108116150\n",
      "Train Epoch:03 step:1400 loss=78.519081116\n",
      "Train Epoch:03 step:1420 loss=100.823219299\n",
      "Train Epoch:03 step:1440 loss=18.352888107\n",
      "Train Epoch:03 step:1460 loss=15.607419014\n",
      "Train Epoch:03 step:1480 loss=1.215996146\n",
      "Train Epoch:03 step:1500 loss=101.822807312\n",
      "Train Epoch:04 step:1520 loss=57.236923218\n",
      "Train Epoch:04 step:1540 loss=282.345031738\n",
      "Train Epoch:04 step:1560 loss=5.455605984\n",
      "Train Epoch:04 step:1580 loss=2.137270689\n",
      "Train Epoch:04 step:1600 loss=33.008476257\n",
      "Train Epoch:04 step:1620 loss=0.091588058\n",
      "Train Epoch:04 step:1640 loss=240.134353638\n",
      "Train Epoch:04 step:1660 loss=0.035451554\n",
      "Train Epoch:04 step:1680 loss=74.664619446\n",
      "Train Epoch:04 step:1700 loss=37.175735474\n",
      "Train Epoch:04 step:1720 loss=112.552688599\n",
      "Train Epoch:04 step:1740 loss=142.780914307\n",
      "Train Epoch:04 step:1760 loss=1.543598413\n",
      "Train Epoch:04 step:1780 loss=77.596702576\n",
      "Train Epoch:04 step:1800 loss=12.043450356\n",
      "Train Epoch:04 step:1820 loss=61.752746582\n",
      "Train Epoch:04 step:1840 loss=74.507804871\n",
      "Train Epoch:04 step:1860 loss=34.129085541\n",
      "Train Epoch:04 step:1880 loss=120.854019165\n",
      "Train Epoch:04 step:1900 loss=78.634590149\n",
      "Train Epoch:04 step:1920 loss=101.147071838\n",
      "Train Epoch:04 step:1940 loss=18.257833481\n",
      "Train Epoch:04 step:1960 loss=15.585001945\n",
      "Train Epoch:04 step:1980 loss=1.216534734\n",
      "Train Epoch:04 step:2000 loss=102.124198914\n",
      "Train Epoch:05 step:2020 loss=54.744411469\n",
      "Train Epoch:05 step:2040 loss=277.170532227\n",
      "Train Epoch:05 step:2060 loss=4.817973614\n",
      "Train Epoch:05 step:2080 loss=2.504355907\n",
      "Train Epoch:05 step:2100 loss=31.932691574\n",
      "Train Epoch:05 step:2120 loss=0.057291772\n",
      "Train Epoch:05 step:2140 loss=239.160446167\n",
      "Train Epoch:05 step:2160 loss=0.035282247\n",
      "Train Epoch:05 step:2180 loss=74.303398132\n",
      "Train Epoch:05 step:2200 loss=37.530113220\n",
      "Train Epoch:05 step:2220 loss=111.947738647\n",
      "Train Epoch:05 step:2240 loss=142.269760132\n",
      "Train Epoch:05 step:2260 loss=1.582322598\n",
      "Train Epoch:05 step:2280 loss=77.119728088\n",
      "Train Epoch:05 step:2300 loss=12.050652504\n",
      "Train Epoch:05 step:2320 loss=61.409568787\n",
      "Train Epoch:05 step:2340 loss=74.474617004\n",
      "Train Epoch:05 step:2360 loss=34.068317413\n",
      "Train Epoch:05 step:2380 loss=120.681968689\n",
      "Train Epoch:05 step:2400 loss=78.727172852\n",
      "Train Epoch:05 step:2420 loss=101.269264221\n",
      "Train Epoch:05 step:2440 loss=18.199983597\n",
      "Train Epoch:05 step:2460 loss=15.564045906\n",
      "Train Epoch:05 step:2480 loss=1.214448690\n",
      "Train Epoch:05 step:2500 loss=102.300064087\n",
      "Train Epoch:06 step:2520 loss=52.406772614\n",
      "Train Epoch:06 step:2540 loss=272.256164551\n",
      "Train Epoch:06 step:2560 loss=4.247001171\n",
      "Train Epoch:06 step:2580 loss=2.880024433\n",
      "Train Epoch:06 step:2600 loss=30.929779053\n",
      "Train Epoch:06 step:2620 loss=0.032175280\n",
      "Train Epoch:06 step:2640 loss=238.244323730\n",
      "Train Epoch:06 step:2660 loss=0.034754004\n",
      "Train Epoch:06 step:2680 loss=73.981361389\n",
      "Train Epoch:06 step:2700 loss=37.869831085\n",
      "Train Epoch:06 step:2720 loss=111.354728699\n",
      "Train Epoch:06 step:2740 loss=141.739166260\n",
      "Train Epoch:06 step:2760 loss=1.623547912\n",
      "Train Epoch:06 step:2780 loss=76.771461487\n",
      "Train Epoch:06 step:2800 loss=12.024711609\n",
      "Train Epoch:06 step:2820 loss=61.178050995\n",
      "Train Epoch:06 step:2840 loss=74.410102844\n",
      "Train Epoch:06 step:2860 loss=34.010272980\n",
      "Train Epoch:06 step:2880 loss=120.549247742\n",
      "Train Epoch:06 step:2900 loss=78.805442810\n",
      "Train Epoch:06 step:2920 loss=101.305503845\n",
      "Train Epoch:06 step:2940 loss=18.158605576\n",
      "Train Epoch:06 step:2960 loss=15.544548035\n",
      "Train Epoch:06 step:2980 loss=1.211222291\n",
      "Train Epoch:06 step:3000 loss=102.416770935\n",
      "Train Epoch:07 step:3020 loss=50.248439789\n",
      "Train Epoch:07 step:3040 loss=267.661529541\n",
      "Train Epoch:07 step:3060 loss=3.743005037\n",
      "Train Epoch:07 step:3080 loss=3.256346226\n",
      "Train Epoch:07 step:3100 loss=30.005189896\n",
      "Train Epoch:07 step:3120 loss=0.015185628\n",
      "Train Epoch:07 step:3140 loss=237.390853882\n",
      "Train Epoch:07 step:3160 loss=0.034128189\n",
      "Train Epoch:07 step:3180 loss=73.688583374\n",
      "Train Epoch:07 step:3200 loss=38.190235138\n",
      "Train Epoch:07 step:3220 loss=110.791236877\n",
      "Train Epoch:07 step:3240 loss=141.220809937\n",
      "Train Epoch:07 step:3260 loss=1.664594531\n",
      "Train Epoch:07 step:3280 loss=76.493087769\n",
      "Train Epoch:07 step:3300 loss=11.985483170\n",
      "Train Epoch:07 step:3320 loss=61.004878998\n",
      "Train Epoch:07 step:3340 loss=74.332725525\n",
      "Train Epoch:07 step:3360 loss=33.954948425\n",
      "Train Epoch:07 step:3380 loss=120.439369202\n",
      "Train Epoch:07 step:3400 loss=78.874267578\n",
      "Train Epoch:07 step:3420 loss=101.301200867\n",
      "Train Epoch:07 step:3440 loss=18.127147675\n",
      "Train Epoch:07 step:3460 loss=15.526264191\n",
      "Train Epoch:07 step:3480 loss=1.207664728\n",
      "Train Epoch:07 step:3500 loss=102.499557495\n",
      "Train Epoch:08 step:3520 loss=48.270755768\n",
      "Train Epoch:08 step:3540 loss=263.399749756\n",
      "Train Epoch:08 step:3560 loss=3.301230431\n",
      "Train Epoch:08 step:3580 loss=3.628061056\n",
      "Train Epoch:08 step:3600 loss=29.156473160\n",
      "Train Epoch:08 step:3620 loss=0.005035463\n",
      "Train Epoch:08 step:3640 loss=236.599227905\n",
      "Train Epoch:08 step:3660 loss=0.033482924\n",
      "Train Epoch:08 step:3680 loss=73.420310974\n",
      "Train Epoch:08 step:3700 loss=38.490497589\n",
      "Train Epoch:08 step:3720 loss=110.263137817\n",
      "Train Epoch:08 step:3740 loss=140.726943970\n",
      "Train Epoch:08 step:3760 loss=1.704041481\n",
      "Train Epoch:08 step:3780 loss=76.260253906\n",
      "Train Epoch:08 step:3800 loss=11.941149712\n",
      "Train Epoch:08 step:3820 loss=60.867187500\n",
      "Train Epoch:08 step:3840 loss=74.252502441\n",
      "Train Epoch:08 step:3860 loss=33.903396606\n",
      "Train Epoch:08 step:3880 loss=120.344947815\n",
      "Train Epoch:08 step:3900 loss=78.935806274\n",
      "Train Epoch:08 step:3920 loss=101.276634216\n",
      "Train Epoch:08 step:3940 loss=18.100912094\n",
      "Train Epoch:08 step:3960 loss=15.508712769\n",
      "Train Epoch:08 step:3980 loss=1.204045415\n",
      "Train Epoch:08 step:4000 loss=102.560745239\n",
      "Train Epoch:09 step:4020 loss=46.465293884\n",
      "Train Epoch:09 step:4040 loss=259.463104248\n",
      "Train Epoch:09 step:4060 loss=2.915193081\n",
      "Train Epoch:09 step:4080 loss=3.991627216\n",
      "Train Epoch:09 step:4100 loss=28.378917694\n",
      "Train Epoch:09 step:4120 loss=0.000501756\n",
      "Train Epoch:09 step:4140 loss=235.864929199\n",
      "Train Epoch:09 step:4160 loss=0.032857649\n",
      "Train Epoch:09 step:4180 loss=73.172500610\n",
      "Train Epoch:09 step:4200 loss=38.771507263\n",
      "Train Epoch:09 step:4220 loss=109.770195007\n",
      "Train Epoch:09 step:4240 loss=140.263931274\n",
      "Train Epoch:09 step:4260 loss=1.741855383\n",
      "Train Epoch:09 step:4280 loss=76.056785583\n",
      "Train Epoch:09 step:4300 loss=11.895530701\n",
      "Train Epoch:09 step:4320 loss=60.752243042\n",
      "Train Epoch:09 step:4340 loss=74.173896790\n",
      "Train Epoch:09 step:4360 loss=33.854549408\n",
      "Train Epoch:09 step:4380 loss=120.260925293\n",
      "Train Epoch:09 step:4400 loss=78.991668701\n",
      "Train Epoch:09 step:4420 loss=101.241012573\n",
      "Train Epoch:09 step:4440 loss=18.078845978\n",
      "Train Epoch:09 step:4460 loss=15.493093491\n",
      "Train Epoch:09 step:4480 loss=1.200498462\n",
      "Train Epoch:09 step:4500 loss=102.610198975\n",
      "Train Epoch:10 step:4520 loss=44.819854736\n",
      "Train Epoch:10 step:4540 loss=255.834197998\n",
      "Train Epoch:10 step:4560 loss=2.578448534\n",
      "Train Epoch:10 step:4580 loss=4.344374180\n",
      "Train Epoch:10 step:4600 loss=27.667301178\n",
      "Train Epoch:10 step:4620 loss=0.000511717\n",
      "Train Epoch:10 step:4640 loss=235.186294556\n",
      "Train Epoch:10 step:4660 loss=0.032268409\n",
      "Train Epoch:10 step:4680 loss=72.944908142\n",
      "Train Epoch:10 step:4700 loss=39.032653809\n",
      "Train Epoch:10 step:4720 loss=109.313446045\n",
      "Train Epoch:10 step:4740 loss=139.832351685\n",
      "Train Epoch:10 step:4760 loss=1.777479410\n",
      "Train Epoch:10 step:4780 loss=75.878570557\n",
      "Train Epoch:10 step:4800 loss=11.851050377\n",
      "Train Epoch:10 step:4820 loss=60.652381897\n",
      "Train Epoch:10 step:4840 loss=74.097694397\n",
      "Train Epoch:10 step:4860 loss=33.810173035\n",
      "Train Epoch:10 step:4880 loss=120.184967041\n",
      "Train Epoch:10 step:4900 loss=79.042129517\n",
      "Train Epoch:10 step:4920 loss=101.204162598\n",
      "Train Epoch:10 step:4940 loss=18.059127808\n",
      "Train Epoch:10 step:4960 loss=15.478442192\n",
      "Train Epoch:10 step:4980 loss=1.197090268\n",
      "Train Epoch:10 step:5000 loss=102.651626587\n"
     ]
    },
    {
     "data": {
      "image/png": "[encoded data removed]",
      "text/plain": [
       "<matplotlib.figure.Figure at 0xd247ace438>"
      ]
     },
     "metadata": {},
     "output_type": "display_data"
    }
   ],
   "source": [
    "step=0\n",
    "loss_list=[]\n",
    "for epoch in range(train_epochs):\n",
    "    for xs,ys in zip(x_data,y_data):\n",
    "        _,loss=sess.run([optimizer,loss_function],feed_dict={x:xs,y:ys})\n",
    "        loss_list.append(loss)\n",
    "        step+=1\n",
    "        if step%20==0:\n",
    "            print(\"Train Epoch:%02d\"%(epoch+1),\"step:%03d\"%(step),\"loss=%.9f\"%(loss))\n",
    "    b0temp=b.eval(session=sess)#!!!\n",
    "    #w0temp=w.eval(session=sess)\n",
    "    w0temp=sess.run(w)\n",
    "    plt.plot(x_data,w0temp*x_data+b0temp)\n",
    "\n",
    "    "
   ]
  },
  {
   "cell_type": "code",
   "execution_count": 9,
   "metadata": {
    "collapsed": false
   },
   "outputs": [
    {
     "name": "stdout",
     "output_type": "stream",
     "text": [
      "w= 3.09882\n",
      "b= 2.95945\n"
     ]
    }
   ],
   "source": [
    "print(\"w=\",sess.run(w))\n",
    "print(\"b=\",sess.run(b))"
   ]
  },
  {
   "cell_type": "code",
   "execution_count": 10,
   "metadata": {
    "collapsed": false
   },
   "outputs": [
    {
     "data": {
      "text/plain": [
       "<matplotlib.legend.Legend at 0xd249f9cd68>"
      ]
     },
     "execution_count": 10,
     "metadata": {},
     "output_type": "execute_result"
    },
    {
     "data": {
      "image/png": "[encoded data removed]",
      "text/plain": [
       "<matplotlib.figure.Figure at 0xd248eb7e48>"
      ]
     },
     "metadata": {},
     "output_type": "display_data"
    }
   ],
   "source": [
    "plt.scatter(x_data,y_data,label=\"Original data\")\n",
    "plt.plot(x_data,x_data*sess.run(w)+sess.run(b),label='Fitted line',color='r',linewidth=3)\n",
    "plt.legend(loc=2)"
   ]
  },
  {
   "cell_type": "code",
   "execution_count": null,
   "metadata": {
    "collapsed": true
   },
   "outputs": [],
   "source": []
  }
 ],
 "metadata": {
  "anaconda-cloud": {},
  "kernelspec": {
   "display_name": "Python [default]",
   "language": "python",
   "name": "python3"
  },
  "language_info": {
   "codemirror_mode": {
    "name": "ipython",
    "version": 3
   },
   "file_extension": ".py",
   "mimetype": "text/x-python",
   "name": "python",
   "nbconvert_exporter": "python",
   "pygments_lexer": "ipython3",
   "version": "3.5.2"
  }
 },
 "nbformat": 4,
 "nbformat_minor": 2
}
